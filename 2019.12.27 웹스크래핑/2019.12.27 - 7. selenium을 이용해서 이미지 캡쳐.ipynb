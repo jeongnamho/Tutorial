{
 "cells": [
  {
   "cell_type": "code",
   "execution_count": 4,
   "metadata": {},
   "outputs": [
    {
     "name": "stdout",
     "output_type": "stream",
     "text": [
      "https://www.python.org/\n",
      "Welcome to Python.org\n"
     ]
    }
   ],
   "source": [
    "from selenium import webdriver\n",
    "from selenium.webdriver.common.keys import Keys  #텍스트 외에 특수 키를 입력하기 위한 모듈\n",
    "# # chromedriver = 'C:/tutorial/chromedriver.exe'    # 드라이버 생성 방법1 (selenium)\n",
    "# driver = webdriver.Chrome(chromedriver)\n",
    "driver = webdriver.PhantomJS('C:/phantomjs-2.1.1/bin/phantomjs.exe') #드라이버 생성 방법2 (phantomJS)\n",
    "driver.get(\"http://www.python.org\")\n",
    "print (driver.current_url)\n",
    "print (driver.title)\n",
    "elem = driver.find_element_by_name(\"q\")\n",
    "# input 텍스트 초기화 \n",
    "elem.clear()\n",
    "# 키 이벤트 전송\n",
    "elem.send_keys(\"python\")\n",
    "# 엔터 입력\n",
    "elem.send_keys(Keys.RETURN)\n",
    "driver.set_window_size(1400, 1000)\n",
    "elem.screenshot(\"./pycon_event.png\") # 스크린샷도 찍기\n",
    "assert \"No results found.\" not in driver.page_source\n",
    "driver.quit()\n"
   ]
  },
  {
   "cell_type": "code",
   "execution_count": null,
   "metadata": {},
   "outputs": [],
   "source": []
  }
 ],
 "metadata": {
  "kernelspec": {
   "display_name": "Python 3",
   "language": "python",
   "name": "python3"
  },
  "language_info": {
   "codemirror_mode": {
    "name": "ipython",
    "version": 3
   },
   "file_extension": ".py",
   "mimetype": "text/x-python",
   "name": "python",
   "nbconvert_exporter": "python",
   "pygments_lexer": "ipython3",
   "version": "3.7.5"
  }
 },
 "nbformat": 4,
 "nbformat_minor": 2
}
