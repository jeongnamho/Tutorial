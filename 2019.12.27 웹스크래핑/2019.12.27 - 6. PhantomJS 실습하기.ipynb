{
 "cells": [
  {
   "cell_type": "code",
   "execution_count": 12,
   "metadata": {},
   "outputs": [],
   "source": [
    "url = \"http://www.naver.com/\"\n",
    "# PhantomJS 드라이버 추출하기\n",
    "browser = webdriver.PhantomJS('C:/phantomjs-2.1.1/bin/phantomjs.exe')\n",
    "# 3초 대기하기\n",
    "browser.implicitly_wait(3)\n",
    "# URL 읽어 들이기 \n",
    "browser.get(url)\n",
    "# 화면을 캡처해서 저장하기\n",
    "browser.save_screenshot(\"./Website.png\")\n",
    "# 브라우저 종료하기\n",
    "browser.quit()"
   ]
  },
  {
   "cell_type": "code",
   "execution_count": null,
   "metadata": {},
   "outputs": [],
   "source": []
  }
 ],
 "metadata": {
  "kernelspec": {
   "display_name": "Python 3",
   "language": "python",
   "name": "python3"
  },
  "language_info": {
   "codemirror_mode": {
    "name": "ipython",
    "version": 3
   },
   "file_extension": ".py",
   "mimetype": "text/x-python",
   "name": "python",
   "nbconvert_exporter": "python",
   "pygments_lexer": "ipython3",
   "version": "3.7.5"
  }
 },
 "nbformat": 4,
 "nbformat_minor": 2
}
