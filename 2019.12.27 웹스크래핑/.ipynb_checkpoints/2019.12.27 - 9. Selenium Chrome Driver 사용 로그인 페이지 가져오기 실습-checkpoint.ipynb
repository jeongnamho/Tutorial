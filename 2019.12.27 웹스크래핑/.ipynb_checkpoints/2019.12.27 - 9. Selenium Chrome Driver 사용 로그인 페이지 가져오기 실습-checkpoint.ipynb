{
 "cells": [
  {
   "cell_type": "code",
   "execution_count": 14,
   "metadata": {},
   "outputs": [
    {
     "name": "stdout",
     "output_type": "stream",
     "text": [
      "마일리지 :  3,000\n",
      "e코인 :  0\n"
     ]
    }
   ],
   "source": [
    "from selenium import webdriver\n",
    "from bs4 import BeautifulSoup\n",
    "import requests\n",
    "\n",
    "driver = webdriver.Chrome('C:/chromedriver/chromedriver.exe')\n",
    "driver.implicitly_wait(3)\n",
    "driver.get(\"https://www.hanbit.co.kr/member/login.html\")\n",
    "\n",
    "driver.find_element_by_name('m_id').send_keys('jnh7807')\n",
    "driver.find_element_by_name('m_passwd').send_keys('내 비밀번호')\n",
    "\n",
    "#로그인 버튼 클릭 이벤트 발생시키기\n",
    "driver.find_element_by_xpath('//*[@id=\"login_btn\"]').click()\n",
    "\n",
    "driver.get('http://www.hanbit.co.kr/myhanbit/myhanbit.html')\n",
    "html = driver.page_source\n",
    "soup = BeautifulSoup(html, 'html.parser')\n",
    "mileage = soup.select_one(\".mileage_section1 > dd > span\").get_text() # .mileage_section1 span 으로 해도 댐\n",
    "ecoin = soup.select_one(\".mileage_section2 span\").get_text()\n",
    "print(\"마일리지 : \", mileage)\n",
    "print(\"e코인 : \", ecoin)\n",
    "# soup = BeautifulSoup(html, 'html.parser')\n",
    "# notices = soup.select('div.p_inr > div.p_info > a > span')\n",
    "# for n in notices:\n",
    "#     print(n.text.strip())"
   ]
  },
  {
   "cell_type": "code",
   "execution_count": 27,
   "metadata": {},
   "outputs": [
    {
     "name": "stdout",
     "output_type": "stream",
     "text": [
      "이채리의 강의커뮤니티\n"
     ]
    }
   ],
   "source": [
    "# https://logins.daum.net/accounts/signinform.do?url=https%3A%2F%2Fwww.daum.net%2F\n",
    "# 로그인 버튼 id는  loginBtn\n",
    "# 아이디 input태그 id는 id\n",
    "# 비빌번호 input태그 id는 inputPwd\n",
    "# top.cafe.daum.net 페이지에서\n",
    "# 내 카페 (가입 카페 목록 가져오기)\n",
    "\n",
    "\n",
    "from selenium import webdriver\n",
    "from bs4 import BeautifulSoup\n",
    "import requests\n",
    "\n",
    "driver = webdriver.Chrome('C:/chromedriver/chromedriver.exe')\n",
    "driver.implicitly_wait(3)\n",
    "driver.get(\"https://logins.daum.net/accounts/signinform.do?url=https%3A%2F%2Fwww.daum.net%2F\")\n",
    "\n",
    "driver.find_element_by_name('id').send_keys('lovektman')\n",
    "driver.find_element_by_name('pw').send_keys('내 비밀번호')\n",
    "\n",
    "#로그인 버튼 클릭 이벤트 발생시키기\n",
    "driver.find_element_by_xpath('//*[@id=\"loginBtn\"]').click()\n",
    "\n",
    "driver.get('http://top.cafe.daum.net/')\n",
    "\n",
    "html = driver.page_source\n",
    "soup = BeautifulSoup(html, 'html.parser')\n",
    "cafe1 = soup.select_one(\"#home_top > ul > li:nth-child(7) > a > div > div.wrap_info > div > div > strong\").get_text()\n",
    "print(cafe1)\n",
    "\n"
   ]
  },
  {
   "cell_type": "code",
   "execution_count": null,
   "metadata": {},
   "outputs": [],
   "source": []
  }
 ],
 "metadata": {
  "kernelspec": {
   "display_name": "Python 3",
   "language": "python",
   "name": "python3"
  },
  "language_info": {
   "codemirror_mode": {
    "name": "ipython",
    "version": 3
   },
   "file_extension": ".py",
   "mimetype": "text/x-python",
   "name": "python",
   "nbconvert_exporter": "python",
   "pygments_lexer": "ipython3",
   "version": "3.7.5"
  }
 },
 "nbformat": 4,
 "nbformat_minor": 2
}
