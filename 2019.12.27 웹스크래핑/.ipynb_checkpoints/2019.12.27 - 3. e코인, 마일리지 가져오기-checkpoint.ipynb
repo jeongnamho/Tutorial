{
 "cells": [
  {
   "cell_type": "markdown",
   "metadata": {},
   "source": [
    "## e코인,  마일리지 가져오기"
   ]
  },
  {
   "cell_type": "markdown",
   "metadata": {},
   "source": [
    "BeautifulSoup객체\n",
    "\n",
    "soup객체의 select_one() 이용 마일리지 e코인\n",
    "\n",
    "soup객체의 select_one() 이용  e코인 e코인\n",
    "\n",
    "출력"
   ]
  },
  {
   "cell_type": "code",
   "execution_count": 8,
   "metadata": {},
   "outputs": [
    {
     "ename": "AttributeError",
     "evalue": "'NoneType' object has no attribute 'get_text'",
     "output_type": "error",
     "traceback": [
      "\u001b[1;31m---------------------------------------------------------------------------\u001b[0m",
      "\u001b[1;31mAttributeError\u001b[0m                            Traceback (most recent call last)",
      "\u001b[1;32m<ipython-input-8-8420d63bdd03>\u001b[0m in \u001b[0;36m<module>\u001b[1;34m\u001b[0m\n\u001b[0;32m     29\u001b[0m \u001b[1;33m\u001b[0m\u001b[0m\n\u001b[0;32m     30\u001b[0m \u001b[0msoup\u001b[0m \u001b[1;33m=\u001b[0m \u001b[0mBeautifulSoup\u001b[0m\u001b[1;33m(\u001b[0m\u001b[0mres\u001b[0m\u001b[1;33m.\u001b[0m\u001b[0mtext\u001b[0m\u001b[1;33m,\u001b[0m \u001b[1;34m'html.parser'\u001b[0m\u001b[1;33m)\u001b[0m\u001b[1;33m\u001b[0m\u001b[1;33m\u001b[0m\u001b[0m\n\u001b[1;32m---> 31\u001b[1;33m \u001b[0mmileage\u001b[0m \u001b[1;33m=\u001b[0m \u001b[0msoup\u001b[0m\u001b[1;33m.\u001b[0m\u001b[0mselect_one\u001b[0m\u001b[1;33m(\u001b[0m\u001b[1;34m\".mileage_section1 > dd > span\"\u001b[0m\u001b[1;33m)\u001b[0m\u001b[1;33m.\u001b[0m\u001b[0mget_text\u001b[0m\u001b[1;33m(\u001b[0m\u001b[1;33m)\u001b[0m \u001b[1;31m# .mileage_section1 span 으로 해도 댐\u001b[0m\u001b[1;33m\u001b[0m\u001b[1;33m\u001b[0m\u001b[0m\n\u001b[0m\u001b[0;32m     32\u001b[0m \u001b[0mecoin\u001b[0m \u001b[1;33m=\u001b[0m \u001b[0msoup\u001b[0m\u001b[1;33m.\u001b[0m\u001b[0mselect_one\u001b[0m\u001b[1;33m(\u001b[0m\u001b[1;34m\".mileage_section2 span\"\u001b[0m\u001b[1;33m)\u001b[0m\u001b[1;33m.\u001b[0m\u001b[0mget_text\u001b[0m\u001b[1;33m(\u001b[0m\u001b[1;33m)\u001b[0m\u001b[1;33m\u001b[0m\u001b[1;33m\u001b[0m\u001b[0m\n\u001b[0;32m     33\u001b[0m \u001b[0mprint\u001b[0m\u001b[1;33m(\u001b[0m\u001b[1;34m\"마일리지 : \"\u001b[0m\u001b[1;33m,\u001b[0m \u001b[0mmileage\u001b[0m\u001b[1;33m)\u001b[0m\u001b[1;33m\u001b[0m\u001b[1;33m\u001b[0m\u001b[0m\n",
      "\u001b[1;31mAttributeError\u001b[0m: 'NoneType' object has no attribute 'get_text'"
     ]
    }
   ],
   "source": [
    "#####파이썬으로 로그인하기 – request.session을 이용하면 쿠키를 사용하는 회원제 사이트에 로그인 할 수 있습니다.####\n",
    "\n",
    "import requests            # 로그인을 위한 모듈 추출하기\n",
    "from bs4 import BeautifulSoup\n",
    "from urllib.parse import urljoin\n",
    "\n",
    "\n",
    "# 아이디와 비밀번호 지정하기\n",
    "USER = \"<jnh7807>\"\n",
    "PASS = \"<내 비밀번호>\"\n",
    "\n",
    "session = requests.session()  # 세션 시작하기 \n",
    "login_info = {                     # 로그인 정보\n",
    "    \"m_id\": USER,                 # 아이디 지정\n",
    "    \"m_passwd\": PASS           # 비밀번호 지정\n",
    "}\n",
    "url_login = \"http://www.hanbit.co.kr/member/login_proc.php\"\n",
    "res = session.post(url_login, data=login_info)\n",
    "res.raise_for_status()            # 오류가 발생하면 예외가 발생합니다.\n",
    "\n",
    "url_mypage = \"http://www.hanbit.co.kr/myhanbit/myhanbit.html\"  # 마이페이지에 접근하기  \n",
    "res = session.get(url_mypage)\n",
    "res.raise_for_status()\n",
    "\n",
    "\n",
    "# soup객체의 select_one() 이용 마일리지 e코인\n",
    "\n",
    "# soup객체의 select_one() 이용 e코인 e코인\n",
    "\n",
    "soup = BeautifulSoup(res.text, 'html.parser')\n",
    "mileage = soup.select_one(\".mileage_section1 > dd > span\").get_text() # .mileage_section1 span 으로 해도 댐\n",
    "ecoin = soup.select_one(\".mileage_section2 span\").get_text()\n",
    "print(\"마일리지 : \", mileage)\n",
    "print(\"e코인 : \", ecoin)\n"
   ]
  },
  {
   "cell_type": "code",
   "execution_count": null,
   "metadata": {},
   "outputs": [],
   "source": []
  }
 ],
 "metadata": {
  "kernelspec": {
   "display_name": "Python 3",
   "language": "python",
   "name": "python3"
  },
  "language_info": {
   "codemirror_mode": {
    "name": "ipython",
    "version": 3
   },
   "file_extension": ".py",
   "mimetype": "text/x-python",
   "name": "python",
   "nbconvert_exporter": "python",
   "pygments_lexer": "ipython3",
   "version": "3.7.5"
  }
 },
 "nbformat": 4,
 "nbformat_minor": 2
}
