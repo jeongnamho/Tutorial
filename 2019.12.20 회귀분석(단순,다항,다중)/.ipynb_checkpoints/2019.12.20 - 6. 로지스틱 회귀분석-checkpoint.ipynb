{
 "cells": [
  {
   "cell_type": "markdown",
   "metadata": {},
   "source": [
    "## 참고\n",
    "[ratsgo's blog : 로지스틱 회귀](https://ratsgo.github.io/machine%20learning/2017/04/02/logistic/)"
   ]
  },
  {
   "cell_type": "code",
   "execution_count": 1,
   "metadata": {
    "ExecuteTime": {
     "end_time": "2020-03-28T14:02:20.017138Z",
     "start_time": "2020-03-28T14:02:15.193028Z"
    }
   },
   "outputs": [],
   "source": [
    "import pandas as pd\n",
    "import numpy as np\n",
    "import seaborn as sns\n",
    "import matplotlib.pyplot as plt"
   ]
  },
  {
   "cell_type": "code",
   "execution_count": 2,
   "metadata": {
    "ExecuteTime": {
     "end_time": "2020-03-28T14:02:20.656429Z",
     "start_time": "2020-03-28T14:02:20.650444Z"
    }
   },
   "outputs": [],
   "source": [
    "score=[56,60,61,67,69, 55,70,44,51,64, 60,50,68,72,90, 93,85,74,81,88, 92,97,77,78,98]\n",
    "grade=[3.61, 2.93, 3.14, 4.00, 3.23,  3.89, 3.66, 3.51, 2.53, 3.61,\n",
    "       2.93, 3.14, 4.00, 3.23, 2.53, 3.23, 3.89, 3.66, 3.51, 3.89,\n",
    "       3.66, 3.51, 2.53 ,3.14, 4.00]\n",
    "_pass = [0,0,0,0,0,0,0,0,0,0,0,1,1,1,1,1,1,1,1,1,1,1,1,1,1]"
   ]
  },
  {
   "cell_type": "code",
   "execution_count": 3,
   "metadata": {
    "ExecuteTime": {
     "end_time": "2020-03-28T14:02:21.220920Z",
     "start_time": "2020-03-28T14:02:21.205995Z"
    }
   },
   "outputs": [
    {
     "name": "stdout",
     "output_type": "stream",
     "text": [
      "<class 'pandas.core.frame.DataFrame'>\n",
      "RangeIndex: 25 entries, 0 to 24\n",
      "Data columns (total 3 columns):\n",
      "score    25 non-null int64\n",
      "grade    25 non-null float64\n",
      "_pass    25 non-null int64\n",
      "dtypes: float64(1), int64(2)\n",
      "memory usage: 728.0 bytes\n",
      "None\n"
     ]
    }
   ],
   "source": [
    "df = pd.DataFrame( {\"score\":score, \"grade\":grade, \"_pass\":_pass})\n",
    "print(df.info())"
   ]
  },
  {
   "cell_type": "code",
   "execution_count": 4,
   "metadata": {
    "ExecuteTime": {
     "end_time": "2020-03-28T14:02:24.584927Z",
     "start_time": "2020-03-28T14:02:24.575950Z"
    }
   },
   "outputs": [],
   "source": [
    "X = df[['score', 'grade']]\n",
    "Y = df[['_pass']]"
   ]
  },
  {
   "cell_type": "code",
   "execution_count": 5,
   "metadata": {
    "ExecuteTime": {
     "end_time": "2020-03-28T14:02:25.732857Z",
     "start_time": "2020-03-28T14:02:25.099550Z"
    }
   },
   "outputs": [],
   "source": [
    "# train data 와 test data를 7:3 비율로 분리\n",
    "from sklearn.model_selection import train_test_split\n",
    "X_train, X_test, Y_train, Y_test = train_test_split(X, Y, test_size=0.3, random_state=0)"
   ]
  },
  {
   "cell_type": "code",
   "execution_count": 6,
   "metadata": {
    "ExecuteTime": {
     "end_time": "2020-03-28T14:02:30.939966Z",
     "start_time": "2020-03-28T14:02:30.759419Z"
    },
    "scrolled": false
   },
   "outputs": [
    {
     "name": "stdout",
     "output_type": "stream",
     "text": [
      "정확도 :  0.8823529411764706\n",
      "정확도 :  0.75\n"
     ]
    },
    {
     "name": "stderr",
     "output_type": "stream",
     "text": [
      "C:\\Users\\jnh78\\Anaconda3\\envs\\tutorial\\lib\\site-packages\\sklearn\\linear_model\\logistic.py:432: FutureWarning: Default solver will be changed to 'lbfgs' in 0.22. Specify a solver to silence this warning.\n",
      "  FutureWarning)\n",
      "C:\\Users\\jnh78\\Anaconda3\\envs\\tutorial\\lib\\site-packages\\sklearn\\utils\\validation.py:724: DataConversionWarning: A column-vector y was passed when a 1d array was expected. Please change the shape of y to (n_samples, ), for example using ravel().\n",
      "  y = column_or_1d(y, warn=True)\n"
     ]
    }
   ],
   "source": [
    "from sklearn.linear_model import LogisticRegression\n",
    "logR = LogisticRegression()\n",
    "logR.fit(X_train, Y_train) # 학습\n",
    "\n",
    "print('정확도 : ', logR.score(X_train, Y_train))\n",
    "print('정확도 : ', logR.score(X_test, Y_test))"
   ]
  },
  {
   "cell_type": "code",
   "execution_count": 7,
   "metadata": {
    "ExecuteTime": {
     "end_time": "2020-03-28T14:09:54.902495Z",
     "start_time": "2020-03-28T14:09:54.890526Z"
    }
   },
   "outputs": [
    {
     "name": "stdout",
     "output_type": "stream",
     "text": [
      "[[2 0]\n",
      " [2 4]]\n"
     ]
    }
   ],
   "source": [
    "from sklearn import metrics\n",
    "y_predict = logR.predict(X_test)\n",
    "logR_matrix = metrics.confusion_matrix(Y_test, y_predict)\n",
    "print(logR_matrix)"
   ]
  },
  {
   "cell_type": "code",
   "execution_count": 8,
   "metadata": {
    "ExecuteTime": {
     "end_time": "2020-03-28T14:09:56.150160Z",
     "start_time": "2020-03-28T14:09:56.134235Z"
    }
   },
   "outputs": [
    {
     "name": "stdout",
     "output_type": "stream",
     "text": [
      "              precision    recall  f1-score   support\n",
      "\n",
      "           0       0.50      1.00      0.67         2\n",
      "           1       1.00      0.67      0.80         6\n",
      "\n",
      "    accuracy                           0.75         8\n",
      "   macro avg       0.75      0.83      0.73         8\n",
      "weighted avg       0.88      0.75      0.77         8\n",
      "\n"
     ]
    }
   ],
   "source": [
    "# Confusion Matrix 기반 정확률, 지지율, F1계수, 재현율을 계산해서 보고서 반환\n",
    "from sklearn.metrics import classification_report\n",
    "y_predict = logR.predict(X_test)\n",
    "print(classification_report(Y_test, y_predict)) # 실제 합격/불합격 테스트 데이터. 모형으로부터 예측된 합격/불합격 데이터"
   ]
  },
  {
   "cell_type": "markdown",
   "metadata": {},
   "source": [
    "---------------------------------------------------------------------------------------------------"
   ]
  },
  {
   "cell_type": "markdown",
   "metadata": {},
   "source": [
    "## 방법2"
   ]
  },
  {
   "cell_type": "code",
   "execution_count": 9,
   "metadata": {
    "ExecuteTime": {
     "end_time": "2020-03-28T14:10:01.596597Z",
     "start_time": "2020-03-28T14:09:59.860241Z"
    },
    "scrolled": false
   },
   "outputs": [
    {
     "name": "stdout",
     "output_type": "stream",
     "text": [
      "Optimization terminated successfully.\n",
      "         Current function value: 0.431881\n",
      "         Iterations 7\n",
      "                         Results: Logit\n",
      "=================================================================\n",
      "Model:              Logit            Pseudo R-squared: 0.370     \n",
      "Dependent Variable: _pass            AIC:              25.5940   \n",
      "Date:               2020-03-28 23:10 BIC:              28.0318   \n",
      "No. Observations:   25               Log-Likelihood:   -10.797   \n",
      "Df Model:           1                LL-Null:          -17.148   \n",
      "Df Residuals:       23               LLR p-value:      0.00036517\n",
      "Converged:          1.0000           Scale:            1.0000    \n",
      "No. Iterations:     7.0000                                       \n",
      "-------------------------------------------------------------------\n",
      "           Coef.    Std.Err.      z      P>|z|     [0.025    0.975]\n",
      "-------------------------------------------------------------------\n",
      "score      0.1320     0.0536    2.4625   0.0138    0.0269    0.2371\n",
      "grade     -2.6205     1.0922   -2.3994   0.0164   -4.7611   -0.4799\n",
      "=================================================================\n",
      "\n",
      "score    0.132019\n",
      "grade   -2.620532\n",
      "dtype: float64\n"
     ]
    }
   ],
   "source": [
    "import statsmodels.api as sm\n",
    "logit = sm.Logit(df['_pass'], X)  #로지스틱 회귀분석 실행\n",
    "result = logit.fit()\n",
    "print(result.summary2())\n",
    "print(result.params) # 종속변수에 영향을 미치는 정도 파악"
   ]
  }
 ],
 "metadata": {
  "kernelspec": {
   "display_name": "Python 3",
   "language": "python",
   "name": "python3"
  },
  "language_info": {
   "codemirror_mode": {
    "name": "ipython",
    "version": 3
   },
   "file_extension": ".py",
   "mimetype": "text/x-python",
   "name": "python",
   "nbconvert_exporter": "python",
   "pygments_lexer": "ipython3",
   "version": "3.7.5"
  },
  "varInspector": {
   "cols": {
    "lenName": 16,
    "lenType": 16,
    "lenVar": 40
   },
   "kernels_config": {
    "python": {
     "delete_cmd_postfix": "",
     "delete_cmd_prefix": "del ",
     "library": "var_list.py",
     "varRefreshCmd": "print(var_dic_list())"
    },
    "r": {
     "delete_cmd_postfix": ") ",
     "delete_cmd_prefix": "rm(",
     "library": "var_list.r",
     "varRefreshCmd": "cat(var_dic_list()) "
    }
   },
   "types_to_exclude": [
    "module",
    "function",
    "builtin_function_or_method",
    "instance",
    "_Feature"
   ],
   "window_display": false
  }
 },
 "nbformat": 4,
 "nbformat_minor": 2
}
