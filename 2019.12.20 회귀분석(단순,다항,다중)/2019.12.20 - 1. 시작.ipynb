{
 "cells": [
  {
   "cell_type": "markdown",
   "metadata": {},
   "source": [
    "- 데이터를 이어 붙이기 -  merge, join, concatenate\n",
    "- 데이터 분리(분리 크기 선택, 데이터 표본 위치, 동일한 키의 변수값 기준) -cut, qcut, group by\n",
    "\n",
    "---------------------------------------------\n",
    "- groupby()함수의 반환 객체 - Groupby(그룹 연산을 위한 모든 필요 정보를 가지고 있음)\n",
    "- GroupBy객체에 컬럼이름, 컬럼이름이 담긴 배열로 색인 가능 - 반환객체타입(SeroesGroupby. DataFrameGroupBy)\n",
    "- groupby()로 분리된 데이터들의 개수를 확인 - GroupBy객체.size()\n",
    "- 분리 -> 함수적용(agg(), apply()) ->병합\n",
    "\n",
    "-------------------------------------------\n",
    "- 행 인덱스(또는 기준열)을 제외한 나머지 모든(열)을 행으로 이어붙여서 새로운 데이터 프레임을 생성(wide구조 -> long구조)\n",
    "- 동일한 컬럼 값을 가지는 로우들을 열로 이어붙여서 새로운 데이터 프레임을 생성(long구조 -> wide구조)\n",
    "------------------------------------------------------------\n",
    "- 행으로 사용할 키, 열로 사용할 키를 지정해서 정렬된 데이터를 반환하는 새로운 데이터 프레임을 생성하는 함수 : pivot_table()\n",
    "- 교차 테이블 생성 - crosstab()"
   ]
  },
  {
   "cell_type": "code",
   "execution_count": null,
   "metadata": {},
   "outputs": [],
   "source": []
  }
 ],
 "metadata": {
  "kernelspec": {
   "display_name": "Python 3",
   "language": "python",
   "name": "python3"
  },
  "language_info": {
   "codemirror_mode": {
    "name": "ipython",
    "version": 3
   },
   "file_extension": ".py",
   "mimetype": "text/x-python",
   "name": "python",
   "nbconvert_exporter": "python",
   "pygments_lexer": "ipython3",
   "version": "3.7.5"
  },
  "varInspector": {
   "cols": {
    "lenName": 16,
    "lenType": 16,
    "lenVar": 40
   },
   "kernels_config": {
    "python": {
     "delete_cmd_postfix": "",
     "delete_cmd_prefix": "del ",
     "library": "var_list.py",
     "varRefreshCmd": "print(var_dic_list())"
    },
    "r": {
     "delete_cmd_postfix": ") ",
     "delete_cmd_prefix": "rm(",
     "library": "var_list.r",
     "varRefreshCmd": "cat(var_dic_list()) "
    }
   },
   "types_to_exclude": [
    "module",
    "function",
    "builtin_function_or_method",
    "instance",
    "_Feature"
   ],
   "window_display": false
  }
 },
 "nbformat": 4,
 "nbformat_minor": 2
}
