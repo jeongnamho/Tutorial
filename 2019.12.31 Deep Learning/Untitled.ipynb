{
 "cells": [
  {
   "cell_type": "code",
   "execution_count": 1,
   "metadata": {},
   "outputs": [],
   "source": [
    "import tensorflow as tf"
   ]
  },
  {
   "cell_type": "code",
   "execution_count": 2,
   "metadata": {},
   "outputs": [
    {
     "name": "stdout",
     "output_type": "stream",
     "text": [
      "None\n",
      "Epoch: 0, RMSE=27.1601, 기울기 a=6.9784, 절편=80.5066\n",
      "Epoch: 500, RMSE=2.8810, 기울기 a=2.2927, 절편=79.0435\n",
      "Epoch: 1000, RMSE=2.8810, 기울기 a=2.2996, 절편=79.0026\n",
      "Epoch: 1500, RMSE=2.8810, 기울기 a=2.3000, 절편=79.0002\n",
      "Epoch: 2000, RMSE=2.8810, 기울기 a=2.3000, 절편=79.0000\n"
     ]
    }
   ],
   "source": [
    "data = [[2,81], [4,93], [6,91], [8,97]]\n",
    "\n",
    "# x 값과 y값\n",
    "x_data = [i[0] for i in data]\n",
    "y_data = [i[1] for i in data]\n",
    "\n",
    "# 임의의 기울기와 y절편의 값을 변수로 정의\n",
    "a = tf.Variable(tf.random_uniform([1], 0,10, dtype=tf.float64, seed = 0)) # 기울기 범위 0~10\n",
    "b = tf.Variable(tf.random_uniform([1], 0,100, dtype=tf.float64, seed = 0)) # y절편 범위 0~100\n",
    "\n",
    "y = a*x_data + b # 1차방정식의 계산식 정의\n",
    "\n",
    "# 오차 계산(평균 제곱근 오차 공식)\n",
    "rmse = tf.sqrt(tf.reduce_mean(tf.square(y-y_data)))\n",
    "\n",
    "# 학습률\n",
    "learning_rate = 0.1\n",
    "\n",
    "\n",
    "# 이 코드가 하는 일은 손실함수 모델 파라메타 a, b에 대해, 손실 함수 rmse의 미분을 구하여 각각 a와 b에 업데이트 하는 것입니다. \n",
    "gradient_descent = tf.train.GradientDescentOptimizer(learning_rate).minimize(rmse)\n",
    "\n",
    "# 위의 gradient_descent 코드 대신에 이렇게 해도 됌 \n",
    "######################################################################\n",
    "# da, db = tf.gradients(rmse, [a, b])\n",
    "# update_a = tf.assign(a, a - 0.5 * da)\n",
    "# update_b = tf.assign(b, b - 0.5 * db)\n",
    "#######################################################################\n",
    "# tf.gradients에 두 번째 매개변수로 여러개의 텐서를 리스트로 넘겨서 한번에 여러개의 그래디언트를 구할 수 있습니다.\n",
    "# a와 b는 변수이기 때문에 직접 값을 대입할 수 없고 tf.assign 함수를 사용합니다.\n",
    "\n",
    "\n",
    "\n",
    "# 텐서플로로 학습\n",
    "with tf.Session() as sess:\n",
    "    sess.run(tf.global_variables_initializer())  # 변수들을 메모리에 생성, 초기화\n",
    "    print(sess.\n",
    "    for step in range(2001):\n",
    "        sess.run(gradient_descent)\n",
    "        if step % 500 == 0:\n",
    "            print(\"Epoch: %.f, RMSE=%.4f, 기울기 a=%.4f, 절편=%.4f\" %(step, sess.run(rmse), sess.run(a), sess.run(b)))\n",
    "\n",
    "# 모델을 훈련시킨다는 것은 데이터 이용해 오차를 구하고 오차에 대한 그래디언트를 계산해서 모델 파라미터를 업데이트 하는 것입니다.\n",
    "# 텐서플로우로 실행할 작업은 모델 파라미터를 업데이트 하는 update_a와 update_b 텐서를 실행하는 일입니다.\n",
    "\n",
    "# Epoch는 입력값에 대해 몇 번 반복되어 있는지"
   ]
  },
  {
   "cell_type": "code",
   "execution_count": null,
   "metadata": {},
   "outputs": [],
   "source": []
  }
 ],
 "metadata": {
  "kernelspec": {
   "display_name": "Python 3",
   "language": "python",
   "name": "python3"
  },
  "language_info": {
   "codemirror_mode": {
    "name": "ipython",
    "version": 3
   },
   "file_extension": ".py",
   "mimetype": "text/x-python",
   "name": "python",
   "nbconvert_exporter": "python",
   "pygments_lexer": "ipython3",
   "version": "3.7.5"
  }
 },
 "nbformat": 4,
 "nbformat_minor": 2
}
