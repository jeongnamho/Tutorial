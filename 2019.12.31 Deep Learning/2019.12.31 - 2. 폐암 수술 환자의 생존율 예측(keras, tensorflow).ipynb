{
 "cells": [
  {
   "cell_type": "markdown",
   "metadata": {},
   "source": [
    "## 폐암 수술 환자의 생존율 예측하기 실습"
   ]
  },
  {
   "cell_type": "code",
   "execution_count": 1,
   "metadata": {},
   "outputs": [
    {
     "name": "stderr",
     "output_type": "stream",
     "text": [
      "Using TensorFlow backend.\n"
     ]
    },
    {
     "name": "stdout",
     "output_type": "stream",
     "text": [
      "WARNING:tensorflow:From C:\\Users\\student\\.conda\\envs\\tutorial\\lib\\site-packages\\tensorflow_core\\python\\ops\\resource_variable_ops.py:1630: calling BaseResourceVariable.__init__ (from tensorflow.python.ops.resource_variable_ops) with constraint is deprecated and will be removed in a future version.\n",
      "Instructions for updating:\n",
      "If using Keras pass *_constraint arguments to layers.\n",
      "WARNING:tensorflow:From C:\\Users\\student\\.conda\\envs\\tutorial\\lib\\site-packages\\keras\\backend\\tensorflow_backend.py:422: The name tf.global_variables is deprecated. Please use tf.compat.v1.global_variables instead.\n",
      "\n",
      "Epoch 1/30\n",
      "470/470 [==============================] - 0s 191us/step - loss: 0.6615 - accuracy: 0.3128\n",
      "Epoch 2/30\n",
      "470/470 [==============================] - 0s 72us/step - loss: 0.1488 - accuracy: 0.8511\n",
      "Epoch 3/30\n",
      "470/470 [==============================] - 0s 64us/step - loss: 0.1488 - accuracy: 0.8511\n",
      "Epoch 4/30\n",
      "470/470 [==============================] - 0s 70us/step - loss: 0.1488 - accuracy: 0.8511\n",
      "Epoch 5/30\n",
      "470/470 [==============================] - 0s 72us/step - loss: 0.1488 - accuracy: 0.8511\n",
      "Epoch 6/30\n",
      "470/470 [==============================] - 0s 68us/step - loss: 0.1487 - accuracy: 0.8511\n",
      "Epoch 7/30\n",
      "470/470 [==============================] - 0s 70us/step - loss: 0.1487 - accuracy: 0.8511\n",
      "Epoch 8/30\n",
      "470/470 [==============================] - 0s 66us/step - loss: 0.1487 - accuracy: 0.8511\n",
      "Epoch 9/30\n",
      "470/470 [==============================] - 0s 70us/step - loss: 0.1487 - accuracy: 0.8511\n",
      "Epoch 10/30\n",
      "470/470 [==============================] - 0s 68us/step - loss: 0.1486 - accuracy: 0.8511\n",
      "Epoch 11/30\n",
      "470/470 [==============================] - 0s 64us/step - loss: 0.1498 - accuracy: 0.8447\n",
      "Epoch 12/30\n",
      "470/470 [==============================] - 0s 66us/step - loss: 0.1486 - accuracy: 0.8511\n",
      "Epoch 13/30\n",
      "470/470 [==============================] - 0s 68us/step - loss: 0.1485 - accuracy: 0.8511\n",
      "Epoch 14/30\n",
      "470/470 [==============================] - 0s 74us/step - loss: 0.1483 - accuracy: 0.8511\n",
      "Epoch 15/30\n",
      "470/470 [==============================] - 0s 72us/step - loss: 0.1485 - accuracy: 0.8511\n",
      "Epoch 16/30\n",
      "470/470 [==============================] - 0s 72us/step - loss: 0.1490 - accuracy: 0.8447\n",
      "Epoch 17/30\n",
      "470/470 [==============================] - 0s 70us/step - loss: 0.1479 - accuracy: 0.8489\n",
      "Epoch 18/30\n",
      "470/470 [==============================] - 0s 70us/step - loss: 0.1482 - accuracy: 0.8468\n",
      "Epoch 19/30\n",
      "470/470 [==============================] - 0s 70us/step - loss: 0.1476 - accuracy: 0.8511\n",
      "Epoch 20/30\n",
      "470/470 [==============================] - 0s 74us/step - loss: 0.1480 - accuracy: 0.8511\n",
      "Epoch 21/30\n",
      "470/470 [==============================] - 0s 70us/step - loss: 0.1475 - accuracy: 0.8511\n",
      "Epoch 22/30\n",
      "470/470 [==============================] - 0s 70us/step - loss: 0.1469 - accuracy: 0.8511\n",
      "Epoch 23/30\n",
      "470/470 [==============================] - 0s 68us/step - loss: 0.1466 - accuracy: 0.8511\n",
      "Epoch 24/30\n",
      "470/470 [==============================] - 0s 74us/step - loss: 0.1475 - accuracy: 0.8489\n",
      "Epoch 25/30\n",
      "470/470 [==============================] - 0s 72us/step - loss: 0.1471 - accuracy: 0.8511\n",
      "Epoch 26/30\n",
      "470/470 [==============================] - 0s 64us/step - loss: 0.1466 - accuracy: 0.8511\n",
      "Epoch 27/30\n",
      "470/470 [==============================] - 0s 66us/step - loss: 0.1472 - accuracy: 0.8511\n",
      "Epoch 28/30\n",
      "470/470 [==============================] - 0s 70us/step - loss: 0.1471 - accuracy: 0.8511\n",
      "Epoch 29/30\n",
      "470/470 [==============================] - 0s 70us/step - loss: 0.1470 - accuracy: 0.8489\n",
      "Epoch 30/30\n",
      "470/470 [==============================] - 0s 70us/step - loss: 0.1461 - accuracy: 0.8532\n",
      "470/470 [==============================] - 0s 39us/step\n",
      "\n",
      " Accuracy: 0.8511\n"
     ]
    }
   ],
   "source": [
    "# 딥러닝을 구동하는데 필요한 케라스 함수를 불러옵니다.\n",
    "from keras.models import Sequential\n",
    "from keras.layers import Dense\n",
    "\n",
    "# 필요한 라이브러리를 불러옵니다.\n",
    "import numpy\n",
    "import tensorflow as tf\n",
    "\n",
    "# 실행할 때마다 같은 결과를 출력하기 위해 설정하는 부분입니다.\n",
    "seed = 0\n",
    "numpy.random.seed(seed)\n",
    "tf.set_random_seed(seed)\n",
    "\n",
    "# 준비된 수술 환자 데이터를 불러들입니다.\n",
    "Data_set = numpy.loadtxt(\"./dataset/ThoraricSurgery.csv\",delimiter=\",\")\n",
    "\n",
    "# 환자의 기록과 수술 결과를 X와 Y로 구분하여 저장합니다.\n",
    "X = Data_set[:,0:17]\n",
    "Y = Data_set[:,17]\n",
    "\n",
    "# 딥러닝 구조를 결정합니다(모델을 설정하고 실행).\n",
    "model = Sequential()   \n",
    "# 첫 번째 은닉층에 input_dim을 적어 줌으로써 첫 번째 Dense가 은닉층 + 입력층의 역할을 겸합니다.\n",
    "# 데이터에서 17개의 값을 받아 은닉층의 30개 노드로 보낸다 \n",
    "model.add(Dense(30, input_dim=17, activation='relu'))  #activation : 출력층으로 전달할 때 사용할 활성화 함수\n",
    "model.add(Dense(1, activation='sigmoid'))  #출력층의 노드 수는 1개, 최종 출력 값에 사용될 활성화 함수\n",
    "\n",
    "# 딥러닝을 실행합니다. (오차 함수 :  평균 제곱 오차 함수 사용)\n",
    "model.compile(loss='mean_squared_error', optimizer='adam', metrics=['accuracy'])\n",
    "model.fit(X, Y, epochs=30, batch_size=10)\n",
    "\n",
    "# 결과를 출력합니다.\n",
    "print('\\n Accuracy: %.4f' % (model.evaluate(X, Y)[1]))"
   ]
  },
  {
   "attachments": {},
   "cell_type": "markdown",
   "metadata": {},
   "source": [
    "- 평균 제곱 오차는 수렴하기까지 속도가 많이 걸린다는 단점이 있다\n",
    "- 교차 엔트로피는 출력 값에 로그를 취해서, 오차가 커지면 수렴 속도가 빨라지고 오차가 작아지면 속도가 감소하게끔 만듭니다.\n",
    "- metrics 함수는 모델이 컴파일될 때 모델 수행 결과를 나타내게끔 설정하는 부분입니다. 정확도를 측정하기 위해 사용되는 테스트 샘플을 학습 과정에서 제외시킴으로써 과적합 문제(over fitting, 특정 데이터에서는 잘 작동하나 다른 데이터에서는 잘 작동하지 않는 문제)를 방지하는 기능을 담고 있습니다."
   ]
  },
  {
   "cell_type": "code",
   "execution_count": null,
   "metadata": {},
   "outputs": [],
   "source": []
  }
 ],
 "metadata": {
  "kernelspec": {
   "display_name": "Python 3",
   "language": "python",
   "name": "python3"
  },
  "language_info": {
   "codemirror_mode": {
    "name": "ipython",
    "version": 3
   },
   "file_extension": ".py",
   "mimetype": "text/x-python",
   "name": "python",
   "nbconvert_exporter": "python",
   "pygments_lexer": "ipython3",
   "version": "3.7.5"
  }
 },
 "nbformat": 4,
 "nbformat_minor": 2
}
