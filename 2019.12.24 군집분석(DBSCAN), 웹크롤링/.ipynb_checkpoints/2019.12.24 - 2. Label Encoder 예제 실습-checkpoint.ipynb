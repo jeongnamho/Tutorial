{
 "cells": [
  {
   "cell_type": "code",
   "execution_count": 1,
   "metadata": {},
   "outputs": [],
   "source": [
    "import numpy as np"
   ]
  },
  {
   "cell_type": "code",
   "execution_count": 2,
   "metadata": {},
   "outputs": [],
   "source": [
    "from sklearn.preprocessing import LabelEncoder"
   ]
  },
  {
   "cell_type": "code",
   "execution_count": 3,
   "metadata": {},
   "outputs": [
    {
     "name": "stdout",
     "output_type": "stream",
     "text": [
      "[1 2 0]\n",
      "['DESKTOP' 'MOBILE' 'NOTEBOOK']\n"
     ]
    }
   ],
   "source": [
    "X_train = np.array(['MOBILE', 'NOTEBOOK', 'DESKTOP'])\n",
    "X_test = np.array(['MOBILE', 'NOTEBOOK', 'TABLET'])\n",
    "\n",
    "encoder = LabelEncoder()\n",
    "encoder.fit(X_train)\n",
    "x_train_encoded = encoder.transform(X_train)\n",
    "print(x_train_encoded)\n",
    "print(encoder.classes_)"
   ]
  },
  {
   "cell_type": "code",
   "execution_count": 4,
   "metadata": {},
   "outputs": [
    {
     "name": "stdout",
     "output_type": "stream",
     "text": [
      "[1 2 3]\n",
      "['DESKTOP' 'MOBILE' 'NOTEBOOK' 'TABLET']\n",
      "\n",
      "\n",
      "['NOTEBOOK' 'MOBILE' 'DESKTOP' 'TABLET']\n",
      "\n",
      "\n"
     ]
    }
   ],
   "source": [
    "for label in np.unique(X_test):\n",
    "    if label not in encoder.classes_:\n",
    "        encoder.classes_ = np.append(encoder.classes_, label)\n",
    "\n",
    "x_test_encoded  = encoder.transform(X_test)\n",
    "print(x_test_encoded)\n",
    "print(encoder.classes_)\n",
    "print('\\n')\n",
    "\n",
    "result = encoder.inverse_transform([2, 1, 0, 3])\n",
    "print(result)\n",
    "print('\\n')"
   ]
  }
 ],
 "metadata": {
  "kernelspec": {
   "display_name": "Python 3",
   "language": "python",
   "name": "python3"
  },
  "language_info": {
   "codemirror_mode": {
    "name": "ipython",
    "version": 3
   },
   "file_extension": ".py",
   "mimetype": "text/x-python",
   "name": "python",
   "nbconvert_exporter": "python",
   "pygments_lexer": "ipython3",
   "version": "3.7.5"
  }
 },
 "nbformat": 4,
 "nbformat_minor": 2
}
