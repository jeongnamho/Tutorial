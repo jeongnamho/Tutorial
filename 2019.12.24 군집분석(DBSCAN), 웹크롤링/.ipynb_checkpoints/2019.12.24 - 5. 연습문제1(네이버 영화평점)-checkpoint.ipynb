{
 "cells": [
  {
   "cell_type": "markdown",
   "metadata": {},
   "source": [
    "## 정적 웹 페이지 크롤링과 스크래핑 실습"
   ]
  },
  {
   "cell_type": "markdown",
   "metadata": {},
   "source": [
    "- https://movie.naver.com/movie/point/af/list.nhn?page=1\n",
    "- 스크래핑 내용\n",
    " 1. 영화 제목 : movie의 콘텐츠\n",
    " 2. 평점 : td.title > div > em의 콘텐츠\n",
    " 3. 댓글 : td.title의 콘텐츠 중  7번째 자식 콘텐츠\n"
   ]
  },
  {
   "cell_type": "code",
   "execution_count": 35,
   "metadata": {},
   "outputs": [
    {
     "name": "stdout",
     "output_type": "stream",
     "text": [
      "영화로 처음접하는 캣츠., 재밋었다 \n",
      "\t\t\t\n",
      "\t\t\t\n",
      "\t\t\t\n",
      "\t\t\t\t\n",
      "\t\t\t\t\n",
      "\t\t\t\t\n",
      "\t\t\t\t\n"
     ]
    }
   ],
   "source": [
    "from bs4 import BeautifulSoup\n",
    "import re\n",
    "req = requests.get('https://movie.naver.com/movie/point/af/list.nhn?page=1')\n",
    "html=req.text\n",
    "soup=BeautifulSoup(html, 'html.parser')\n",
    "titles = soup.select('.movie')\n",
    "points = soup.select('td.title > div > em')\n",
    "reviews = soup.select('td.title')\n",
    "print(reviews[0].contents[6])\n"
   ]
  },
  {
   "cell_type": "code",
   "execution_count": 36,
   "metadata": {},
   "outputs": [],
   "source": [
    "movie_title=[]\n",
    "movie_point=[]\n",
    "movie_review=[]\n",
    "for dom in titles :\n",
    "     movie_title.append(dom.text)\n",
    "\n",
    "for dom in points :\n",
    "     movie_point.append(dom.text)\n",
    "\n",
    "for dom in reviews :\n",
    "     content = dom.contents[6]    \n",
    "     content = re.sub(\"[\\n\\t]\",\"\",content)\n",
    "     content = re.sub(\"신고\",\"\", content)\n",
    "     movie_review.append(content)\n",
    "\n",
    "\n"
   ]
  },
  {
   "cell_type": "code",
   "execution_count": 37,
   "metadata": {},
   "outputs": [
    {
     "name": "stdout",
     "output_type": "stream",
     "text": [
      "영화제목: 캣츠\n",
      "평점: 10\n",
      "리뷰: 영화로 처음접하는 캣츠., 재밋었다 \n",
      "-----------------------------------------\n",
      "영화제목: 82년생 김지영\n",
      "평점: 10\n",
      "리뷰: \n",
      "-----------------------------------------\n",
      "영화제목: 조커\n",
      "평점: 6\n",
      "리뷰: 소름 돋는 연기력!! \n",
      "-----------------------------------------\n",
      "영화제목: 시동\n",
      "평점: 10\n",
      "리뷰: 재미나게 봤습다  백두산보다 잼났음 \n",
      "-----------------------------------------\n",
      "영화제목: 캣츠\n",
      "평점: 10\n",
      "리뷰: 전 꽤나 재밋던데요~~ㅋㅋ \n",
      "-----------------------------------------\n",
      "영화제목: 곤지암\n",
      "평점: 8\n",
      "리뷰: 어우~ 리얼리티!!  중반까지는 살짝 졸렸는데.. 후반부로 갈수록 엄멈 놀래라~ 이 정도 레벨이면 무서운거 맞든듯요 b \n",
      "-----------------------------------------\n",
      "영화제목: 러브 액츄얼리\n",
      "평점: 7\n",
      "리뷰: 넓고 얕지만 다양한 표상들의 합치는 감동적 \n",
      "-----------------------------------------\n",
      "영화제목: 미안해요, 리키\n",
      "평점: 10\n",
      "리뷰: 삶은 계속되는가? 계속 되어야하는가? 행복한 가족영화로 보고 싶었던 이유는 뭘까 사실적 현실을 부정하고 싶었던 쪼잔함이었을까 \n",
      "-----------------------------------------\n",
      "영화제목: 장수상회\n",
      "평점: 10\n",
      "리뷰: 엄청나게 여운이 남는 영화..부모님, 가족이라는것을 생각해보게 되네요.가슴 먹먹해서 한참을 눈물 흘린 영화였습니다. \n",
      "-----------------------------------------\n",
      "영화제목: 캣츠\n",
      "평점: 10\n",
      "리뷰: 한번 더 보러가야겠다, , , \n",
      "-----------------------------------------\n"
     ]
    }
   ],
   "source": [
    "for i  in range(len(movie_title)) :\n",
    "    print('영화제목:' , movie_title[i])\n",
    "    print('평점:' , movie_point[i])\n",
    "    print('리뷰:' , movie_review[i])\n",
    "    print('-----------------------------------------')"
   ]
  }
 ],
 "metadata": {
  "kernelspec": {
   "display_name": "Python 3",
   "language": "python",
   "name": "python3"
  },
  "language_info": {
   "codemirror_mode": {
    "name": "ipython",
    "version": 3
   },
   "file_extension": ".py",
   "mimetype": "text/x-python",
   "name": "python",
   "nbconvert_exporter": "python",
   "pygments_lexer": "ipython3",
   "version": "3.7.5"
  }
 },
 "nbformat": 4,
 "nbformat_minor": 2
}
