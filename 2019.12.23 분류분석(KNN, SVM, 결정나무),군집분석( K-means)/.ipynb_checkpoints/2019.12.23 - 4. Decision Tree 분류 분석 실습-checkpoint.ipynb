{
 "cells": [
  {
   "cell_type": "markdown",
   "metadata": {},
   "source": [
    "## 실습"
   ]
  },
  {
   "cell_type": "markdown",
   "metadata": {},
   "source": [
    "UCI 머신러닝 저장소에서 제공하는 암세포 진단(breast cancer) 데이터셋을 사용\n",
    "\n",
    "샘플 ID, 암세포 조직의 크기와 모양 등 종양 특성을 나타내는 열 9개, 악성 종양 여부(2:양성, 4:악성)\n",
    "11개의 열에 699개의 샘플 데이터가 있다.\n",
    "\n",
    "‘bare_unclei’열의 데이터 중 ‘?’을 np.nan으로 바꿔주고 해당 데이터가 들어 있는 행을 dropna()로 삭제 후 정수형으로 변환\n"
   ]
  },
  {
   "cell_type": "code",
   "execution_count": 1,
   "metadata": {},
   "outputs": [],
   "source": [
    "import pandas as pd\n",
    "import numpy as np"
   ]
  },
  {
   "cell_type": "code",
   "execution_count": 2,
   "metadata": {},
   "outputs": [],
   "source": [
    "uci_path = 'https://archive.ics.uci.edu/ml/machine-learning-databases/breast-cancer-wisconsin/breast-cancer-wisconsin.data'\n",
    "\n",
    "df = pd.read_csv(uci_path, header=None)\n",
    "# print(df.head())\n",
    "df.columns=['id', 'clump', 'cell_size', 'cell_shape', 'adhesion', \n",
    "           'epithlial', 'bare_nuclei', 'chromation', 'normal_nucleoli', \n",
    "           'mitoses', 'class']"
   ]
  },
  {
   "cell_type": "code",
   "execution_count": 3,
   "metadata": {},
   "outputs": [
    {
     "name": "stdout",
     "output_type": "stream",
     "text": [
      "<class 'pandas.core.frame.DataFrame'>\n",
      "RangeIndex: 699 entries, 0 to 698\n",
      "Data columns (total 11 columns):\n",
      "id                 699 non-null int64\n",
      "clump              699 non-null int64\n",
      "cell_size          699 non-null int64\n",
      "cell_shape         699 non-null int64\n",
      "adhesion           699 non-null int64\n",
      "epithlial          699 non-null int64\n",
      "bare_nuclei        699 non-null object\n",
      "chromation         699 non-null int64\n",
      "normal_nucleoli    699 non-null int64\n",
      "mitoses            699 non-null int64\n",
      "class              699 non-null int64\n",
      "dtypes: int64(10), object(1)\n",
      "memory usage: 60.2+ KB\n",
      "None\n",
      "                 id       clump   cell_size  cell_shape    adhesion  \\\n",
      "count  6.990000e+02  699.000000  699.000000  699.000000  699.000000   \n",
      "mean   1.071704e+06    4.417740    3.134478    3.207439    2.806867   \n",
      "std    6.170957e+05    2.815741    3.051459    2.971913    2.855379   \n",
      "min    6.163400e+04    1.000000    1.000000    1.000000    1.000000   \n",
      "25%    8.706885e+05    2.000000    1.000000    1.000000    1.000000   \n",
      "50%    1.171710e+06    4.000000    1.000000    1.000000    1.000000   \n",
      "75%    1.238298e+06    6.000000    5.000000    5.000000    4.000000   \n",
      "max    1.345435e+07   10.000000   10.000000   10.000000   10.000000   \n",
      "\n",
      "        epithlial  chromation  normal_nucleoli     mitoses       class  \n",
      "count  699.000000  699.000000       699.000000  699.000000  699.000000  \n",
      "mean     3.216023    3.437768         2.866953    1.589413    2.689557  \n",
      "std      2.214300    2.438364         3.053634    1.715078    0.951273  \n",
      "min      1.000000    1.000000         1.000000    1.000000    2.000000  \n",
      "25%      2.000000    2.000000         1.000000    1.000000    2.000000  \n",
      "50%      2.000000    3.000000         1.000000    1.000000    2.000000  \n",
      "75%      4.000000    5.000000         4.000000    1.000000    4.000000  \n",
      "max     10.000000   10.000000        10.000000   10.000000    4.000000  \n"
     ]
    }
   ],
   "source": [
    "print(df.info())\n",
    "print(df.describe())\n",
    "# print(df['bare_nuclei']).unique()"
   ]
  },
  {
   "cell_type": "code",
   "execution_count": 4,
   "metadata": {},
   "outputs": [
    {
     "name": "stdout",
     "output_type": "stream",
     "text": [
      "<class 'pandas.core.frame.DataFrame'>\n",
      "Int64Index: 683 entries, 0 to 698\n",
      "Data columns (total 11 columns):\n",
      "id                 683 non-null int64\n",
      "clump              683 non-null int64\n",
      "cell_size          683 non-null int64\n",
      "cell_shape         683 non-null int64\n",
      "adhesion           683 non-null int64\n",
      "epithlial          683 non-null int64\n",
      "bare_nuclei        683 non-null int32\n",
      "chromation         683 non-null int64\n",
      "normal_nucleoli    683 non-null int64\n",
      "mitoses            683 non-null int64\n",
      "class              683 non-null int64\n",
      "dtypes: int32(1), int64(10)\n",
      "memory usage: 61.4 KB\n",
      "None\n",
      "                 id       clump   cell_size  cell_shape    adhesion  \\\n",
      "count  6.830000e+02  683.000000  683.000000  683.000000  683.000000   \n",
      "mean   1.076720e+06    4.442167    3.150805    3.215227    2.830161   \n",
      "std    6.206440e+05    2.820761    3.065145    2.988581    2.864562   \n",
      "min    6.337500e+04    1.000000    1.000000    1.000000    1.000000   \n",
      "25%    8.776170e+05    2.000000    1.000000    1.000000    1.000000   \n",
      "50%    1.171795e+06    4.000000    1.000000    1.000000    1.000000   \n",
      "75%    1.238705e+06    6.000000    5.000000    5.000000    4.000000   \n",
      "max    1.345435e+07   10.000000   10.000000   10.000000   10.000000   \n",
      "\n",
      "        epithlial  bare_nuclei  chromation  normal_nucleoli     mitoses  \\\n",
      "count  683.000000   683.000000  683.000000       683.000000  683.000000   \n",
      "mean     3.234261     3.544656    3.445095         2.869693    1.603221   \n",
      "std      2.223085     3.643857    2.449697         3.052666    1.732674   \n",
      "min      1.000000     1.000000    1.000000         1.000000    1.000000   \n",
      "25%      2.000000     1.000000    2.000000         1.000000    1.000000   \n",
      "50%      2.000000     1.000000    3.000000         1.000000    1.000000   \n",
      "75%      4.000000     6.000000    5.000000         4.000000    1.000000   \n",
      "max     10.000000    10.000000   10.000000        10.000000   10.000000   \n",
      "\n",
      "            class  \n",
      "count  683.000000  \n",
      "mean     2.699854  \n",
      "std      0.954592  \n",
      "min      2.000000  \n",
      "25%      2.000000  \n",
      "50%      2.000000  \n",
      "75%      4.000000  \n",
      "max      4.000000  \n"
     ]
    }
   ],
   "source": [
    "df['bare_nuclei'].replace('?', np.nan, inplace=True)\n",
    "df.dropna(subset=['bare_nuclei'], axis=0, inplace=True)\n",
    "df['bare_nuclei'] = df['bare_nuclei'].astype('int')\n",
    "print(df.info())\n",
    "print(df.describe())"
   ]
  },
  {
   "cell_type": "code",
   "execution_count": 5,
   "metadata": {},
   "outputs": [],
   "source": [
    "# 독립변수\n",
    "X = df[['clump', 'cell_size', 'cell_shape', 'adhesion', \n",
    "           'epithlial', 'bare_nuclei', 'chromation', 'normal_nucleoli', \n",
    "           'mitoses']]\n",
    "# 설명변수\n",
    "Y = df[['class']]"
   ]
  },
  {
   "cell_type": "code",
   "execution_count": 6,
   "metadata": {},
   "outputs": [],
   "source": [
    "# 설명변수 데이터 정규화\n",
    "from sklearn import preprocessing\n",
    "X = preprocessing.StandardScaler().fit(X).transform(X)"
   ]
  },
  {
   "cell_type": "code",
   "execution_count": 7,
   "metadata": {},
   "outputs": [
    {
     "name": "stdout",
     "output_type": "stream",
     "text": [
      "(478, 9)\n",
      "(205, 9)\n"
     ]
    }
   ],
   "source": [
    "# train:test(7:3)으로 데이터 분리\n",
    "from sklearn.model_selection import train_test_split\n",
    "X_train, X_test, Y_train, Y_test = train_test_split(X, Y, test_size=0.3, random_state=10)\n",
    "print(X_train.shape)\n",
    "print(X_test.shape)"
   ]
  },
  {
   "cell_type": "code",
   "execution_count": 8,
   "metadata": {},
   "outputs": [],
   "source": [
    "#Decision Tree 분류 모델 생성\n",
    "\n",
    "from sklearn import tree\n",
    "\n",
    "tree_model = tree.DecisionTreeClassifier(criterion='entropy',  max_depth=5)\n",
    "# tree_model = tree.DecisionTreeClassifier(criterion='gini',  max_depth=5)\n",
    "tree_model.fit(X_train, Y_train)\n",
    "\n",
    "y_predict = tree_model.predict(X_test)"
   ]
  },
  {
   "cell_type": "code",
   "execution_count": 16,
   "metadata": {
    "scrolled": true
   },
   "outputs": [
    {
     "name": "stdout",
     "output_type": "stream",
     "text": [
      "[4 4 4 4 4 4 2 2 4 4]\n",
      "[[4]]\n"
     ]
    }
   ],
   "source": [
    "print(y_predict[0:10])\n",
    "print(Y_test.values[0:1])"
   ]
  },
  {
   "cell_type": "code",
   "execution_count": 17,
   "metadata": {},
   "outputs": [
    {
     "name": "stdout",
     "output_type": "stream",
     "text": [
      "[[127   4]\n",
      " [  2  72]]\n"
     ]
    }
   ],
   "source": [
    "from sklearn import metrics\n",
    "tree_matrix = metrics.confusion_matrix(Y_test, y_predict)\n",
    "print(tree_matrix)"
   ]
  },
  {
   "cell_type": "code",
   "execution_count": 18,
   "metadata": {
    "scrolled": true
   },
   "outputs": [
    {
     "name": "stdout",
     "output_type": "stream",
     "text": [
      "              precision    recall  f1-score   support\n",
      "\n",
      "           2       0.98      0.97      0.98       131\n",
      "           4       0.95      0.97      0.96        74\n",
      "\n",
      "    accuracy                           0.97       205\n",
      "   macro avg       0.97      0.97      0.97       205\n",
      "weighted avg       0.97      0.97      0.97       205\n",
      "\n"
     ]
    }
   ],
   "source": [
    "tree_report = metrics.classification_report(Y_test, y_predict)\n",
    "print(tree_report)"
   ]
  }
 ],
 "metadata": {
  "kernelspec": {
   "display_name": "Python 3",
   "language": "python",
   "name": "python3"
  },
  "language_info": {
   "codemirror_mode": {
    "name": "ipython",
    "version": 3
   },
   "file_extension": ".py",
   "mimetype": "text/x-python",
   "name": "python",
   "nbconvert_exporter": "python",
   "pygments_lexer": "ipython3",
   "version": "3.7.5"
  }
 },
 "nbformat": 4,
 "nbformat_minor": 2
}
