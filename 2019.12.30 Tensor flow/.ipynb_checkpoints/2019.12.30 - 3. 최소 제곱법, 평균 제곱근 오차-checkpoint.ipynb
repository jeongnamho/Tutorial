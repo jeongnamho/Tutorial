{
 "cells": [
  {
   "cell_type": "markdown",
   "metadata": {},
   "source": [
    "## 최소 제곱법 공식으로 구한 성적 예측 코딩"
   ]
  },
  {
   "cell_type": "code",
   "execution_count": 1,
   "metadata": {},
   "outputs": [],
   "source": [
    "import numpy as np"
   ]
  },
  {
   "cell_type": "code",
   "execution_count": 16,
   "metadata": {},
   "outputs": [
    {
     "name": "stdout",
     "output_type": "stream",
     "text": [
      "x의 평균값 :  5.0\n",
      "y의 평균값 :  90.5\n",
      "\n",
      "\n",
      "The following equation points the predicted line from method of least squares.\n",
      "y =  1.425 x + 83.375\n"
     ]
    }
   ],
   "source": [
    "# x값과 y값\n",
    "x=[2,4,6,8]\n",
    "y=[81,93,91,97]\n",
    "mx = np.mean(x)\n",
    "my = np.mean(y)\n",
    "print('x의 평균값 : ', mx)\n",
    "print('y의 평균값 : ', my)\n",
    "print('\\n')\n",
    "\n",
    "# 기울기 공식의 분모\n",
    "divisor = sum([(mx-i)**2 for i in x])\n",
    "\n",
    "# 기울기 공식의 분자\n",
    "def top(x,mx,y,my):\n",
    "    d = 0\n",
    "    for i in range(len(x)):\n",
    "        d +=(x[i] - mx) * (y[i] - my)\n",
    "        return d\n",
    "\n",
    "\n",
    "# 기울기와 y절편 구하기\n",
    "tangent = top(x,mx,y,my)/divisor\n",
    "y_intercept = my - tangent*mx\n",
    "\n",
    "# 출력하기\n",
    "print('The following equation points the predicted line from method of least squares.')\n",
    "print('y = ', tangent,'x', '+', y_intercept)\n",
    "# print(tangent)"
   ]
  },
  {
   "cell_type": "markdown",
   "metadata": {},
   "source": [
    "-----"
   ]
  },
  {
   "cell_type": "markdown",
   "metadata": {},
   "source": [
    "## 오차계산 : 평균 제곱근 오차"
   ]
  },
  {
   "cell_type": "code",
   "execution_count": 17,
   "metadata": {},
   "outputs": [],
   "source": [
    "import numpy as np"
   ]
  },
  {
   "cell_type": "code",
   "execution_count": 19,
   "metadata": {},
   "outputs": [
    {
     "name": "stdout",
     "output_type": "stream",
     "text": [
      "공부한 시간 = 2, 실제 점수 =81, 예측점수=82\n",
      "공부한 시간 = 4, 실제 점수 =93, 예측점수=88\n",
      "공부한 시간 = 6, 실제 점수 =91, 예측점수=94\n",
      "공부한 시간 = 8, 실제 점수 =97, 예측점수=100\n",
      "rmse 최종값 :3.3166247903554\n"
     ]
    }
   ],
   "source": [
    "# 임의의 기울기와 절편\n",
    "ab = [3,76]\n",
    "\n",
    "data = [[2,81], [4,93], [6,91], [8,97]]\n",
    "\n",
    "\n",
    "# x 값과 y값\n",
    "x = [i[0] for i in data]\n",
    "y = [i[1] for i in data]\n",
    "\n",
    "# 임의의 기울기와 절편의 모델로부터 예측값 반환 함수\n",
    "def predict(x):\n",
    "    return ab[0]*x + ab[1]\n",
    "\n",
    "# 평균 제곱근 오차 반환 함수\n",
    "def rmse(p,a):\n",
    "    return  np.sqrt(((p-a)**2).mean())\n",
    "\n",
    "predict_result=[]\n",
    "\n",
    "for i in range(len(x)):\n",
    "    predict_result.append(predict(x[i]))\n",
    "    print(\"공부한 시간 = %.f, 실제 점수 =%.f, 예측점수=%.f\" %(x[i],y[i], predict_result[i])) \n",
    "\n",
    "# 평균 제곱근 오차 반환 함수를 이용해서 최종값 구하기\n",
    "def rmse_val(predict_result, y):\n",
    "    return rmse(np.array(predict_result), np.array(y))\n",
    "\n",
    "print(\"rmse 최종값 :\"+ str(rmse_val(predict_result,y)))"
   ]
  },
  {
   "cell_type": "code",
   "execution_count": null,
   "metadata": {},
   "outputs": [],
   "source": []
  }
 ],
 "metadata": {
  "kernelspec": {
   "display_name": "Python 3",
   "language": "python",
   "name": "python3"
  },
  "language_info": {
   "codemirror_mode": {
    "name": "ipython",
    "version": 3
   },
   "file_extension": ".py",
   "mimetype": "text/x-python",
   "name": "python",
   "nbconvert_exporter": "python",
   "pygments_lexer": "ipython3",
   "version": "3.7.5"
  }
 },
 "nbformat": 4,
 "nbformat_minor": 2
}
